{
 "cells": [
  {
   "cell_type": "code",
   "execution_count": null,
   "metadata": {
    "collapsed": true
   },
   "outputs": [],
   "source": [
    "from kubernetes import client, config"
   ]
  },
  {
   "cell_type": "code",
   "execution_count": null,
   "metadata": {
    "collapsed": true
   },
   "outputs": [],
   "source": [
    "client.Configuration().host=\"http://localhost:8080\""
   ]
  },
  {
   "cell_type": "code",
   "execution_count": null,
   "metadata": {
    "collapsed": true
   },
   "outputs": [],
   "source": [
    "extensions = client.ExtensionsV1beta1Api()"
   ]
  },
  {
   "cell_type": "code",
   "execution_count": null,
   "metadata": {
    "collapsed": true
   },
   "outputs": [],
   "source": [
    "body = extensions.V1beta1Deployment()\n",
    "namespace = \"default\"\n",
    "\n",
    "deployment = client.V1beta1Deployment()\n",
    "deployment.metadata = client.V1ObjectMeta(name=\"jupyter\")\n",
    "spec = client.V1beta1DeploymentSpec()\n",
    "spec.template = client.V1PodTemplateSpec()\n",
    "spec.template.metadata = client.V1ObjectMeta()\n",
    "spec.template.spec = client.V1PodSpec()\n",
    "\n",
    "\n",
    "extensions.create_namespaced_deployment(namespace, body)"
   ]
  }
 ],
 "metadata": {
  "kernelspec": {
   "display_name": "Python 2",
   "language": "python",
   "name": "python2"
  },
  "language_info": {
   "codemirror_mode": {
    "name": "ipython",
    "version": 2
   },
   "file_extension": ".py",
   "mimetype": "text/x-python",
   "name": "python",
   "nbconvert_exporter": "python",
   "pygments_lexer": "ipython2",
   "version": "2.7.12"
  }
 },
 "nbformat": 4,
 "nbformat_minor": 1
}
